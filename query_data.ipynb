{
 "cells": [
  {
   "cell_type": "code",
   "execution_count": 1,
   "id": "0bd8c759",
   "metadata": {},
   "outputs": [],
   "source": [
    "from langchain.schema.document import Document\n",
    "from langchain_chroma import Chroma\n",
    "from embedding_function import get_embedding_function\n",
    "from langchain.prompts import ChatPromptTemplate\n",
    "import argparse\n",
    "from langchain_community.llms import Ollama\n",
    "from langchain_community.embeddings import HuggingFaceEmbeddings\n",
    "from langchain_community.llms import huggingface_hub\n",
    "from langchain_community.embeddings import OllamaEmbeddings\n",
    "from langchain_huggingface import HuggingFaceEmbeddings\n"
   ]
  },
  {
   "cell_type": "code",
   "execution_count": 2,
   "id": "d83054eb",
   "metadata": {},
   "outputs": [],
   "source": [
    "CHROMA_PATH = \"chroma\""
   ]
  },
  {
   "cell_type": "code",
   "execution_count": 3,
   "id": "a50b3356",
   "metadata": {},
   "outputs": [],
   "source": [
    "PROMPT_TEMPLATE = \"\"\"\n",
    "Du er en finansiell rådgiver. brug de givne oplysninger til at besvare spørgsmålet så præcist som muligt:\n",
    "kontekst:\n",
    "{context}\n",
    "\n",
    "---\n",
    "Spørgsmål:\n",
    "{question}\n",
    "\n",
    "Svar på dansk, og hvis svaret ikke kan findes i konteksten, sig det tydeligt:\n",
    "\"\"\"\n",
    "\n"
   ]
  },
  {
   "cell_type": "code",
   "execution_count": 4,
   "id": "537fea75",
   "metadata": {},
   "outputs": [
    {
     "name": "stdout",
     "output_type": "stream",
     "text": [
      "\n",
      "📄 --- Chroma Retrieval Results ---\n",
      "\n",
      "Resultat 1 (score: 0.9259):\n",
      "Source: Data/Maersk Annual Report 2024.pdf\n",
      "Annual Report  \n",
      "2024\n",
      "A.P . Møller - Mærsk A/S \n",
      "Esplanaden 50, DK-1263 Copenhagen K | Registration no. 22756214 ALL THE WAY \n",
      "\n",
      "Resultat 2 (score: 0.9259):\n",
      "Source: Data/Maersk Annual Report 2024.pdf\n",
      "Annual Report  \n",
      "2024\n",
      "A.P . Møller - Mærsk A/S \n",
      "Esplanaden 50, DK-1263 Copenhagen K | Registration no. 22756214 ALL THE WAY \n",
      "\n",
      "Resultat 3 (score: 1.0913):\n",
      "Source: Data/Maersk Annual Report 2024.pdf\n",
      "means of identification\n",
      "A.P . Møller - Mærsk A/S\n",
      "Address of entity’s registered office\n",
      "Esplanaden 50, DK-1263 Copenhagen K\n",
      " \n",
      "Design and layout\n",
      "e-Types\n",
      "Cover photo\n",
      "Ane Mærsk arriving at Port of Tanjung Pelepas, \n",
      "Malaysia, February 2024.\n",
      "Produced in Denmark 2025 \n",
      "\n",
      "Resultat 4 (score: 1.0913):\n",
      "Source: Data/Maersk Annual Report 2024.pdf\n",
      "means of identification\n",
      "A.P . Møller - Mærsk A/S\n",
      "Address of entity’s registered office\n",
      "Esplanaden 50, DK-1263 Copenhagen K\n",
      " \n",
      "Design and layout\n",
      "e-Types\n",
      "Cover photo\n",
      "Ane Mærsk arriving at Port of Tanjung Pelepas, \n",
      "Malaysia, February 2024.\n",
      "Produced in Denmark 2025 \n",
      "\n",
      "Resultat 5 (score: 1.0933):\n",
      "Source: Data/Maersk Annual Report 2024.pdf\n",
      "a Danish legal entity and thus has been allocated to Denmark. The seafarer population totals more than \n",
      "12,000 employees.\n",
      " ACCOUNTING POLICIES \n",
      "Number of employees by country\n",
      "The number of employees by country is the number of \n",
      "employees in countries where Maersk has more than 50 \n",
      "employees, representing at least 10% of the total number \n",
      "of employees at 31 December in the reporting year.  \n",
      "The employees by country specification is based on  \n",
      "registrations in Maersk’s HR systems. \n"
     ]
    },
    {
     "name": "stderr",
     "output_type": "stream",
     "text": [
      "/var/folders/pp/lgn7jpns1mv_rf12t9s9hcnw0000gn/T/ipykernel_86751/362258311.py:28: LangChainDeprecationWarning: The class `Ollama` was deprecated in LangChain 0.3.1 and will be removed in 1.0.0. An updated version of the class exists in the :class:`~langchain-ollama package and should be used instead. To use it run `pip install -U :class:`~langchain-ollama` and import as `from :class:`~langchain_ollama import OllamaLLM``.\n",
      "  llm = Ollama(model=\"mistral\")\n"
     ]
    },
    {
     "name": "stdout",
     "output_type": "stream",
     "text": [
      "Svar:  For at kategorisere Maersk's risiko er det væsentligt at belyse de forskellige faktorer, der kan have indvirkning på virksomhedens økonomiske situation.\n",
      "\n",
      "1. Industri: Maersk er en global skibsfartvirksomhed, som er udsat for flere risici i denne branche, herunder variationer i markedets behov, konjunkturfluctueringer, økonomiske kriser og internationale regelverk.\n",
      "2. Geografi: Virksomhedens stor udstrækning med opslagspladser og produktionsanlæg over hele verden betyder, at Maersk er udsat for regionale risici, herunder politiske instabiliteter, økonomiske kriser, naturlige katastrofer og handelskrig.\n",
      "3. Arbejdsstyrke: Som det også beskrives i konteksten, har Maersk en stor seafarer befolkning med mere end 12.000 ansatte, hvilket betyder, at de organisatoriske og personale risici er store. Dette kan omfatte blandt andet industrielle strømeldrejser, arbejdsmarkedsfluctueringer, arbejdsmarkedslovgivning og lønningsforhold.\n",
      "4. Miljø: Virksomhedens aktiviteter har en betydelig indvirkning på miljøet, hvilket også betyder, at Maersk er udsat for miljørelaterede risici. Dette kan omfatte blandt andet miljøbelastning, miljøreguleringer og klage fra kunder og lokale befolkninger.\n",
      "5. Konkurrence: Virksomheden konkurrerer med mange andre skibsfartvirksomheder i verden, hvilket betyder, at konkurrencen er høj. Dette kan omfatte blandt andet priskrig, strategisk markedsforudsigelse og innovationer.\n",
      "\n",
      "I alt kan Maersk's risiko kategoriseres som højt med en bred vifte af forskellige faktorer, der har indvirkning på virksomhedens økonomiske situation. Det er vigtigt at virksomheden overvejer disse risici og arbejder på at minimere risikoen ved at implementere effektive strategier og riskemanagement.\n",
      "\n",
      "Kilder:\n",
      "\n",
      "['Data/Maersk Annual Report 2024.pdf', 'Data/Maersk Annual Report 2024.pdf', 'Data/Maersk Annual Report 2024.pdf', 'Data/Maersk Annual Report 2024.pdf', 'Data/Maersk Annual Report 2024.pdf']\n"
     ]
    }
   ],
   "source": [
    "\n",
    "# Get query from user input in Jupyter Notebook\n",
    "query_text = input(\"hvad vil du: \")\n",
    "\n",
    "# Ensure embedding_function uses OllamaEmbeddings\n",
    "embeddings = HuggingFaceEmbeddings(model_name=\"sentence-transformers/all-MiniLM-L6-v2\")\n",
    "embedding_function = embeddings\n",
    "\n",
    "\n",
    "def query_rag(query_text: str):    # Load the vector database\n",
    "    db = Chroma(persist_directory=CHROMA_PATH, embedding_function=embedding_function)\n",
    "    results = db.similarity_search_with_score(query_text, k=5)\n",
    "    if not results:\n",
    "        print(\"Ingen relevante dokumenter fundet i Chroma.\")\n",
    "        return None\n",
    "\n",
    "    print(\"\\n📄 --- Chroma Retrieval Results ---\")\n",
    "    for i, (doc, score) in enumerate(results):\n",
    "        print(f\"\\nResultat {i+1} (score: {score:.4f}):\")\n",
    "        print(f\"Source: {doc.metadata.get('source', 'ukendt')}\")\n",
    "        print(doc.page_content[:500], \"...\" if len(doc.page_content) > 500 else \"\")\n",
    "\n",
    "\n",
    "    # Prepare context for prompt\n",
    "    context_text = \"\\n\\n---\\n\\n\".join([doc.page_content for doc, _score in results])\n",
    "    prompt_template = ChatPromptTemplate.from_template(PROMPT_TEMPLATE)\n",
    "    prompt = prompt_template.format(context=context_text, question=query_text)\n",
    "\n",
    "    llm = Ollama(model=\"mistral\")\n",
    "    response_text = llm.invoke(prompt)\n",
    "\n",
    "    sources = [doc.metadata.get(\"source\", \"ukendt\") for doc, _ in results]\n",
    "    formatted_response = f\"Svar: {response_text}\\n\\nKilder:\\n\\n{sources}\"\n",
    "    print(formatted_response)\n",
    "    #return response_text\n",
    "\n",
    "\n",
    "\n",
    "# Call the function to query RAG with the user's input\n",
    "query_rag(query_text)\n"
   ]
  }
 ],
 "metadata": {
  "kernelspec": {
   "display_name": "myenv",
   "language": "python",
   "name": "python3"
  },
  "language_info": {
   "codemirror_mode": {
    "name": "ipython",
    "version": 3
   },
   "file_extension": ".py",
   "mimetype": "text/x-python",
   "name": "python",
   "nbconvert_exporter": "python",
   "pygments_lexer": "ipython3",
   "version": "3.13.5"
  }
 },
 "nbformat": 4,
 "nbformat_minor": 5
}
